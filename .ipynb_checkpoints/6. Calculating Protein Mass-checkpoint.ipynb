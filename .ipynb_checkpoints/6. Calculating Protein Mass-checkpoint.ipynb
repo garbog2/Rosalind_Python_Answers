{
 "cells": [
  {
   "cell_type": "code",
   "execution_count": 1,
   "metadata": {},
   "outputs": [],
   "source": [
    "def proteinmass(aastring):\n",
    "    monoisotopic_mass_dictionary = {'A': 71.03711, 'C': 103.00919, 'D':115.02694, 'E':129.04259, 'F':147.06841, \n",
    "'G': 57.02146, 'H':137.05891,'I':113.08406, 'K':128.09496, 'L':113.08406, 'M':131.04049, 'N':114.04293, 'P': 97.05276,'Q':128.05858,\n",
    "'R': 156.10111, 'S':87.03203, 'T':101.04768, 'V':99.06841, 'W':186.07931, 'Y':163.06333}\n",
    "    mass = 0\n",
    "    for aa in aastring:\n",
    "        mass += monoisotopic_mass_dictionary[aa]\n",
    "    print mass"
   ]
  },
  {
   "cell_type": "code",
   "execution_count": 2,
   "metadata": {},
   "outputs": [
    {
     "name": "stdout",
     "output_type": "stream",
     "text": [
      "821.39192\n"
     ]
    }
   ],
   "source": [
    "proteinmass('SKADYEK')"
   ]
  },
  {
   "cell_type": "code",
   "execution_count": 3,
   "metadata": {},
   "outputs": [
    {
     "name": "stdout",
     "output_type": "stream",
     "text": [
      "108972.26228\n"
     ]
    }
   ],
   "source": [
    "proteinmass('NEIAGHWVCCIRDRVPANTAAIFTYHWKAVPHLMHWYCKKHWAAMAEDERDELITWCKFVNFHEITFYPWRSYCRFDCQYWMPVKLGWNPCAAEWPERVRIMGGWEDTITFDQHGCKFDRMELFGEGWYEKNYVAVVCFLALKLAPNLHIRLTVLYPVFRATHLKQHALAFMIGNSWDWNWVYHDQWMFGMTFSAINQPVTYCFFVHPRLRHQQPGILFNWQVLWDTMKSDSFFWVLCLECCDFLLQCNPATGKPMYTVDDGVHHIPKGNNACADMEMSFDEPQPMNHKDDWQRKIEYPLCEHMYDTLRASDYESCHNIDTMDGGYDPQVSAPSDAMQVGCPPYTHWTPEFSCDVGMNIKVCLLIEGSCHPIIYYKQIYQEDDKLMFACCREWHLFKTNLEMPRMDKYNFTVTWDNQLGHYSYRCSNFHQRQTQDCWYQCMMDQLMRVIGHFFVWVRQQIWEHGLEFQEWSRMGGYVKMNCEHSMKSVCKYIITNAYCQQSNEMFSILSNFLMYLWPGLHRPQTGMQGPRQEIEGQDGHEIIHWYYEYVYECCQNIEVHHAFCYDIPNHRQNKAHNDYVWWFFVPNIEFCFEYAPATPYTPMGSYRDMDCQHGLSDWRWQWSGVYTWLETLPLAAGMVKEPMNVTPGGVNSNSHHMWNNGKTQVQHKIPTGIHDYEVGCFKFGSPVRAWGVCHTQQTGHYSRGYRSRFSHMTMYYWYDCPQNTVIMPMVLEPDFIVWDATSSWIRETNEPEWSCSWYPAIFECNMQIYGMEFCWNDIRDYPRYFTLILARVMVFTQCTGEGPSKNCMASYHAMTRRQHWFAQHTCNKDVILNHSRTVELFDPFDTSQYSMPEDPKKPRHKAGMHKVKSCVCRWLHYTFCDRDADCQVRAPPIVEDNDIAVQGWLMDREAWFDKCF')"
   ]
  },
  {
   "cell_type": "code",
   "execution_count": null,
   "metadata": {},
   "outputs": [],
   "source": []
  }
 ],
 "metadata": {
  "kernelspec": {
   "display_name": "Python 2",
   "language": "python",
   "name": "python2"
  },
  "language_info": {
   "codemirror_mode": {
    "name": "ipython",
    "version": 2
   },
   "file_extension": ".py",
   "mimetype": "text/x-python",
   "name": "python",
   "nbconvert_exporter": "python",
   "pygments_lexer": "ipython2",
   "version": "2.7.15"
  }
 },
 "nbformat": 4,
 "nbformat_minor": 2
}
