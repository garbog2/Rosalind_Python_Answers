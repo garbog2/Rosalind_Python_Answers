{
 "cells": [
  {
   "cell_type": "code",
   "execution_count": 5,
   "metadata": {},
   "outputs": [],
   "source": [
    "import numpy as np"
   ]
  },
  {
   "cell_type": "code",
   "execution_count": null,
   "metadata": {},
   "outputs": [],
   "source": [
    "dna_array = ['ATCCAGCT', 'GGGCAACT', 'ATGGATCT', 'AAGCAACC', 'TTGGAACT', 'ATGCCATT', 'ATGGCACT']"
   ]
  },
  {
   "cell_type": "code",
   "execution_count": 6,
   "metadata": {},
   "outputs": [],
   "source": [
    "def con_and_prof1(dna_array):\n",
    "    matrix = []\n",
    "    for i in dna_array:\n",
    "        matrix.append([j for j in i])\n",
    "    M = np.array(matrix).reshape(len(matrix), len(matrix[0])) \n",
    "    # the .reshape function here is creating an ndarray from the length of the matrix, with column numbers as the length of a string\n",
    "    # so we could use len(matrix[5]) if there were 6 strings. \n",
    "    A = []\n",
    "    C = []\n",
    "    G = []\n",
    "    T = []\n",
    "    for i in range(len(matrix[0])):\n",
    "        a_count = 0\n",
    "        c_count = 0\n",
    "        g_count = 0\n",
    "        t_count = 0\n",
    "        for j in M[:,i]:\n",
    "            if i == 'A':\n",
    "                a_count += 1\n",
    "            elif i == 'C':\n",
    "                c_count += 1\n",
    "            elif i == 'G':\n",
    "                g_count += 1\n",
    "            elif i =='T':\n",
    "                t_count += 1\n",
    "        A.append(a_count)\n",
    "        C.append(c_count)\n",
    "        G.append(g_count)\n",
    "        T.append(t_count)\n",
    "    profile_matrix = {'A': A, 'C': C, 'G': G, 'T': T}\n",
    "    for k, v in profile_matrix:\n",
    "        print k + ':' + \"\".join(str(x) for x in v)\n",
    "            "
   ]
  },
  {
   "cell_type": "code",
   "execution_count": 7,
   "metadata": {},
   "outputs": [
    {
     "ename": "NameError",
     "evalue": "global name 'T' is not defined",
     "output_type": "error",
     "traceback": [
      "\u001b[0;31m---------------------------------------------------------------------------\u001b[0m",
      "\u001b[0;31mNameError\u001b[0m                                 Traceback (most recent call last)",
      "\u001b[0;32m<ipython-input-7-5404ac69c932>\u001b[0m in \u001b[0;36m<module>\u001b[0;34m()\u001b[0m\n\u001b[0;32m----> 1\u001b[0;31m \u001b[0mcon_and_prof1\u001b[0m\u001b[0;34m(\u001b[0m\u001b[0;34m[\u001b[0m\u001b[0;34m'ATGC'\u001b[0m\u001b[0;34m,\u001b[0m \u001b[0;34m'ATCG'\u001b[0m\u001b[0;34m,\u001b[0m \u001b[0;34m'ATCG'\u001b[0m\u001b[0;34m]\u001b[0m\u001b[0;34m)\u001b[0m\u001b[0;34m\u001b[0m\u001b[0m\n\u001b[0m",
      "\u001b[0;32m<ipython-input-6-7ae9d00165ab>\u001b[0m in \u001b[0;36mcon_and_prof1\u001b[0;34m(dna_array)\u001b[0m\n\u001b[1;32m     28\u001b[0m         \u001b[0mC\u001b[0m\u001b[0;34m.\u001b[0m\u001b[0mappend\u001b[0m\u001b[0;34m(\u001b[0m\u001b[0mc_count\u001b[0m\u001b[0;34m)\u001b[0m\u001b[0;34m\u001b[0m\u001b[0m\n\u001b[1;32m     29\u001b[0m         \u001b[0mG\u001b[0m\u001b[0;34m.\u001b[0m\u001b[0mappend\u001b[0m\u001b[0;34m(\u001b[0m\u001b[0mg_count\u001b[0m\u001b[0;34m)\u001b[0m\u001b[0;34m\u001b[0m\u001b[0m\n\u001b[0;32m---> 30\u001b[0;31m     \u001b[0mprofile_matrix\u001b[0m \u001b[0;34m=\u001b[0m \u001b[0;34m{\u001b[0m\u001b[0;34m'A'\u001b[0m\u001b[0;34m:\u001b[0m \u001b[0mA\u001b[0m\u001b[0;34m,\u001b[0m \u001b[0;34m'C'\u001b[0m\u001b[0;34m:\u001b[0m \u001b[0mC\u001b[0m\u001b[0;34m,\u001b[0m \u001b[0;34m'G'\u001b[0m\u001b[0;34m:\u001b[0m \u001b[0mG\u001b[0m\u001b[0;34m,\u001b[0m \u001b[0;34m'T'\u001b[0m\u001b[0;34m:\u001b[0m \u001b[0mT\u001b[0m\u001b[0;34m}\u001b[0m\u001b[0;34m\u001b[0m\u001b[0m\n\u001b[0m\u001b[1;32m     31\u001b[0m     \u001b[0;32mfor\u001b[0m \u001b[0mk\u001b[0m\u001b[0;34m,\u001b[0m \u001b[0mv\u001b[0m \u001b[0;32min\u001b[0m \u001b[0mprofile_matrix\u001b[0m\u001b[0;34m:\u001b[0m\u001b[0;34m\u001b[0m\u001b[0m\n\u001b[1;32m     32\u001b[0m         \u001b[0;32mprint\u001b[0m \u001b[0mk\u001b[0m \u001b[0;34m+\u001b[0m \u001b[0;34m':'\u001b[0m \u001b[0;34m+\u001b[0m \u001b[0;34m\"\"\u001b[0m\u001b[0;34m.\u001b[0m\u001b[0mjoin\u001b[0m\u001b[0;34m(\u001b[0m\u001b[0mstr\u001b[0m\u001b[0;34m(\u001b[0m\u001b[0mx\u001b[0m\u001b[0;34m)\u001b[0m \u001b[0;32mfor\u001b[0m \u001b[0mx\u001b[0m \u001b[0;32min\u001b[0m \u001b[0mv\u001b[0m\u001b[0;34m)\u001b[0m\u001b[0;34m\u001b[0m\u001b[0m\n",
      "\u001b[0;31mNameError\u001b[0m: global name 'T' is not defined"
     ]
    }
   ],
   "source": [
    "con_and_prof1(['ATGC', 'ATCG', 'ATCG'])"
   ]
  },
  {
   "cell_type": "code",
   "execution_count": null,
   "metadata": {},
   "outputs": [],
   "source": [
    "matrix1 = []\n",
    "for x in list1:\n",
    "    matrix1.append([])\n",
    "\n",
    "\n",
    "\n",
    "\n",
    "dna_sequence in dna_array:\n",
    "        for bp in column:\n",
    "            if bp == 'a':\n",
    "                a_count += 1\n",
    "            elif bp == 't':\n",
    "                t_count += 1\n",
    "            elif bp == 'g':\n",
    "                g_count += 1\n",
    "            elif bp == 'c':\n",
    "                c_count += 1"
   ]
  },
  {
   "cell_type": "code",
   "execution_count": null,
   "metadata": {},
   "outputs": [],
   "source": [
    "matrix = []\n",
    "for i in strings:\n",
    "    matrix.append([j for j in i])\n",
    "M = np.array(matrix).reshape(len(matrix),len(matrix[0]))"
   ]
  },
  {
   "cell_type": "code",
   "execution_count": null,
   "metadata": {},
   "outputs": [],
   "source": [
    "   for index in range(len(dna_array[0])):\n",
    "        bp_count = {'A':0, 'T':0, 'C':0, 'G':0}\n",
    "        for dna_strand in dna_array:\n",
    "            current_bp = dna_strand[index]\n",
    "            bp_count[current_bp] += 1\n",
    "        final_profile[index]"
   ]
  }
 ],
 "metadata": {
  "kernelspec": {
   "display_name": "Python 2",
   "language": "python",
   "name": "python2"
  },
  "language_info": {
   "codemirror_mode": {
    "name": "ipython",
    "version": 2
   },
   "file_extension": ".py",
   "mimetype": "text/x-python",
   "name": "python",
   "nbconvert_exporter": "python",
   "pygments_lexer": "ipython2",
   "version": "2.7.15"
  }
 },
 "nbformat": 4,
 "nbformat_minor": 2
}
