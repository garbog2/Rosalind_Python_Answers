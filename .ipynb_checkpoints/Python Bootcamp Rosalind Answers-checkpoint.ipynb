{
 "cells": [
  {
   "cell_type": "code",
   "execution_count": 1,
   "metadata": {},
   "outputs": [],
   "source": [
    "#2. Give square of hypotenuse of a triangle with legs a, b\n",
    "def hypotenuse(a, b):\n",
    "    c = a**2 + b**2\n",
    "    print c"
   ]
  },
  {
   "cell_type": "code",
   "execution_count": 2,
   "metadata": {},
   "outputs": [
    {
     "name": "stdout",
     "output_type": "stream",
     "text": [
      "34\n"
     ]
    }
   ],
   "source": [
    "hypotenuse(3, 5)"
   ]
  },
  {
   "cell_type": "code",
   "execution_count": 3,
   "metadata": {},
   "outputs": [
    {
     "name": "stdout",
     "output_type": "stream",
     "text": [
      "1905160\n"
     ]
    }
   ],
   "source": [
    "hypotenuse(974, 978)"
   ]
  },
  {
   "cell_type": "code",
   "execution_count": 4,
   "metadata": {},
   "outputs": [],
   "source": [
    "#3. The slice of this string from indices a through b and c through d (with space in between), inclusively. \n",
    "#In other words, we should include elements s[b] and s[d] in our slice.\n",
    "\n",
    "def string_slice(stri, a, b, c, d):\n",
    "    print stri[a:b+1] + \" \" + stri[c:d+1]"
   ]
  },
  {
   "cell_type": "code",
   "execution_count": 5,
   "metadata": {},
   "outputs": [
    {
     "name": "stdout",
     "output_type": "stream",
     "text": [
      "Humpty Dumpty\n"
     ]
    }
   ],
   "source": [
    "string_slice('HumptyDumptysatonawallHumptyDumptyhadagreatfallAlltheKingshorsesandalltheKingsmenCouldntputHumptyDumptyinhisplaceagain.',\n",
    "22, 27, 97, 102)"
   ]
  },
  {
   "cell_type": "code",
   "execution_count": 6,
   "metadata": {},
   "outputs": [
    {
     "name": "stdout",
     "output_type": "stream",
     "text": [
      "Diomedea spaldingi\n"
     ]
    }
   ],
   "source": [
    "string_slice('EZqApdo7PZZmniWz2WDiomedea5zE54CUyNvDY2CQ6G5eMa26VTBNTTBjz5UlhcqE9i1BkRfgBFbUTWoidsaHMkspaldingiaH0KErlR6WgcO6rniyNnEwxPblQtmXyXpgtNU5ajJPfIsVHacgtpt6O9QE0a8Xg1OIx47acU2vMv4ndCFO1H.',18, 25, 87, 95)"
   ]
  },
  {
   "cell_type": "code",
   "execution_count": null,
   "metadata": {},
   "outputs": [],
   "source": []
  }
 ],
 "metadata": {
  "kernelspec": {
   "display_name": "Python 2",
   "language": "python",
   "name": "python2"
  },
  "language_info": {
   "codemirror_mode": {
    "name": "ipython",
    "version": 2
   },
   "file_extension": ".py",
   "mimetype": "text/x-python",
   "name": "python",
   "nbconvert_exporter": "python",
   "pygments_lexer": "ipython2",
   "version": "2.7.15"
  }
 },
 "nbformat": 4,
 "nbformat_minor": 2
}
