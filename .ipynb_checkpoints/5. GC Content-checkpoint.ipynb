{
 "cells": [
  {
   "cell_type": "code",
   "execution_count": 13,
   "metadata": {},
   "outputs": [],
   "source": [
    "#old program with input dictionary yourself\n",
    "def gc_content(dictionary):\n",
    "    highscore_percent = 0.0\n",
    "    highscore_key = ''\n",
    "    for key in dictionary:\n",
    "        sequence = dictionary[key]\n",
    "        gc_count = 0.0\n",
    "        total_count = len(sequence)\n",
    "        for letter in sequence:\n",
    "            if letter == 'C' or letter == 'G':\n",
    "                gc_count += 1\n",
    "        gc_percent = gc_count / total_count * 100.0\n",
    "        if gc_percent > highscore_percent:\n",
    "            highscore_percent = gc_percent\n",
    "            highscore_key = key\n",
    "    print highscore_key\n",
    "    print highscore_percent"
   ]
  },
  {
   "cell_type": "code",
   "execution_count": 50,
   "metadata": {},
   "outputs": [],
   "source": [
    "#load sequence file\n",
    "#resource for line.strip(): https://www.tutorialspoint.com/python/string_strip.htm\n",
    "def load_sequences(fasta_file):\n",
    "    sequences = {}\n",
    "    sequence = \"\"\n",
    "    start = True\n",
    "    sequence_data = open(fasta_file)\n",
    "    for line in sequence_data:\n",
    "        if start == True:\n",
    "            sequence_id = line.rstrip().lstrip('>')\n",
    "            start = False\n",
    "        else:\n",
    "            if line.startswith('>'):\n",
    "                sequences[sequence_id] = sequence\n",
    "                sequence_id = line.rstrip().lstrip('>')\n",
    "                sequence = ''\n",
    "            else:\n",
    "                sequence += line.strip()\n",
    "                sequences[sequence_id] = sequence\n",
    "    return sequences"
   ]
  },
  {
   "cell_type": "code",
   "execution_count": 66,
   "metadata": {},
   "outputs": [],
   "source": [
    "def gc_content(dictionary):\n",
    "    highscore_percent = 0.0\n",
    "    highscore_key = ''\n",
    "    for key in dictionary:\n",
    "        sequence = dictionary[key]\n",
    "        gc_count = 0.0\n",
    "        total_count = len(sequence)\n",
    "        for letter in sequence:\n",
    "            if letter == 'C' or letter == 'G':\n",
    "                gc_count += 1\n",
    "        gc_percent = gc_count / total_count * 100.0\n",
    "        if gc_percent > highscore_percent:\n",
    "            highscore_percent = gc_percent\n",
    "            highscore_key = key\n",
    "    print highscore_key\n",
    "    print highscore_percent\n",
    "    answer = open('gc_content_answer', 'w+')\n",
    "    answer.write(highscore_key)\n",
    "    answer.write('\\n' + str(highscore_percent))\n",
    "    answer.close()\n",
    "    "
   ]
  },
  {
   "cell_type": "code",
   "execution_count": null,
   "metadata": {},
   "outputs": [],
   "source": []
  },
  {
   "cell_type": "code",
   "execution_count": 20,
   "metadata": {},
   "outputs": [],
   "source": [
    " print protein\n",
    "    answer = open(\"rna_to_protein_answer.txt\", \"w+\")\n",
    "    answer.write(protein)\n",
    "    answer.close()"
   ]
  },
  {
   "cell_type": "code",
   "execution_count": null,
   "metadata": {},
   "outputs": [],
   "source": []
  },
  {
   "cell_type": "code",
   "execution_count": null,
   "metadata": {},
   "outputs": [],
   "source": []
  },
  {
   "cell_type": "code",
   "execution_count": 67,
   "metadata": {},
   "outputs": [
    {
     "name": "stdout",
     "output_type": "stream",
     "text": [
      "Rosalind_4332\n",
      "52.6424870466\n"
     ]
    }
   ],
   "source": [
    "sequence = load_sequences('rosalind_gc.txt')\n",
    "gc_content(sequence)"
   ]
  },
  {
   "cell_type": "code",
   "execution_count": null,
   "metadata": {},
   "outputs": [],
   "source": []
  },
  {
   "cell_type": "code",
   "execution_count": null,
   "metadata": {},
   "outputs": [],
   "source": []
  },
  {
   "cell_type": "code",
   "execution_count": null,
   "metadata": {},
   "outputs": [],
   "source": []
  },
  {
   "cell_type": "code",
   "execution_count": null,
   "metadata": {},
   "outputs": [],
   "source": []
  },
  {
   "cell_type": "code",
   "execution_count": null,
   "metadata": {},
   "outputs": [],
   "source": []
  },
  {
   "cell_type": "code",
   "execution_count": null,
   "metadata": {},
   "outputs": [],
   "source": []
  }
 ],
 "metadata": {
  "kernelspec": {
   "display_name": "Python 2",
   "language": "python",
   "name": "python2"
  },
  "language_info": {
   "codemirror_mode": {
    "name": "ipython",
    "version": 2
   },
   "file_extension": ".py",
   "mimetype": "text/x-python",
   "name": "python",
   "nbconvert_exporter": "python",
   "pygments_lexer": "ipython2",
   "version": "2.7.15"
  }
 },
 "nbformat": 4,
 "nbformat_minor": 2
}
