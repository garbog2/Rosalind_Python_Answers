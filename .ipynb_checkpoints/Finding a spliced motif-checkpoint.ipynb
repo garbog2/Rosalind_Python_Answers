{
 "cells": [
  {
   "cell_type": "code",
   "execution_count": 19,
   "metadata": {},
   "outputs": [],
   "source": [
    "def load_sequences(fasta_file):\n",
    "    sequences = {}\n",
    "    sequence = \"\"\n",
    "    start = True\n",
    "    sequence_data = open(fasta_file)\n",
    "    for line in sequence_data:\n",
    "        if start == True:\n",
    "            sequence_id = line.rstrip().lstrip('>')\n",
    "            start = False\n",
    "        else:\n",
    "            if line.startswith('>'):\n",
    "                sequences[sequence_id] = sequence\n",
    "                sequence_id = line.rstrip().lstrip('>')\n",
    "                sequence = ''\n",
    "            else:\n",
    "                sequence += line.strip()\n",
    "                sequences[sequence_id] = sequence\n",
    "    sequences = sequences.values()\n",
    "    print sequences\n",
    "    return sequences"
   ]
  },
  {
   "cell_type": "code",
   "execution_count": 20,
   "metadata": {},
   "outputs": [
    {
     "name": "stdout",
     "output_type": "stream",
     "text": [
      "['ACGTACGTGACG', 'GTA']\n"
     ]
    },
    {
     "data": {
      "text/plain": [
       "['ACGTACGTGACG', 'GTA']"
      ]
     },
     "execution_count": 20,
     "metadata": {},
     "output_type": "execute_result"
    }
   ],
   "source": [
    "load_sequences('splicedmotifsample.txt')"
   ]
  },
  {
   "cell_type": "code",
   "execution_count": 30,
   "metadata": {},
   "outputs": [],
   "source": [
    "'''Given: Two DNA strings s and t\n",
    "\n",
    "Return: One collection of indices of sin which the symbols of t appear as a subsequence of s. \n",
    "If multiple solutions exist, you may return any one.'''\n",
    "\n",
    "import regex as re\n",
    "\n",
    "def findmotif(sequences):\n",
    "    '''sequences = [sequence, ['m','o','t','i','f']]'''\n",
    "    parent = sequences[0]\n",
    "    motif = sequences[1]\n",
    "    indices = ''\n",
    "    for i in motif:\n",
    "        m = re.match(motif, parent)\n",
    "    print m\n",
    "    "
   ]
  },
  {
   "cell_type": "code",
   "execution_count": 31,
   "metadata": {},
   "outputs": [
    {
     "name": "stdout",
     "output_type": "stream",
     "text": [
      "<type 'NoneType'>\n",
      "<type 'NoneType'>\n",
      "<type 'NoneType'>\n",
      "None\n"
     ]
    }
   ],
   "source": [
    "findmotif(['ACGTACGTGACG', 'GTA'])"
   ]
  },
  {
   "cell_type": "code",
   "execution_count": null,
   "metadata": {},
   "outputs": [],
   "source": []
  }
 ],
 "metadata": {
  "kernelspec": {
   "display_name": "Python 2",
   "language": "python",
   "name": "python2"
  },
  "language_info": {
   "codemirror_mode": {
    "name": "ipython",
    "version": 2
   },
   "file_extension": ".py",
   "mimetype": "text/x-python",
   "name": "python",
   "nbconvert_exporter": "python",
   "pygments_lexer": "ipython2",
   "version": "2.7.15"
  }
 },
 "nbformat": 4,
 "nbformat_minor": 2
}
