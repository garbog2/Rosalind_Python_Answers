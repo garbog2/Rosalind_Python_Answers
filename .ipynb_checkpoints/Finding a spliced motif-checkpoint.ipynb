{
 "cells": [
  {
   "cell_type": "code",
   "execution_count": 27,
   "metadata": {},
   "outputs": [],
   "source": [
    "def load_sequences(fasta_file):\n",
    "    sequences = {}\n",
    "    sequence = \"\"\n",
    "    start = True\n",
    "    sequence_data = open(fasta_file)\n",
    "    for line in sequence_data:\n",
    "        if start == True:\n",
    "            sequence_id = line.rstrip().lstrip('>')\n",
    "            start = False\n",
    "        else:\n",
    "            if line.startswith('>'):\n",
    "                sequences[sequence_id] = sequence\n",
    "                sequence_id = line.rstrip().lstrip('>')\n",
    "                sequence = ''\n",
    "            else:\n",
    "                sequence += line.strip()\n",
    "                sequences[sequence_id] = sequence\n",
    "    sequences = sequences.values()\n",
    "    sequence1 = sequences[1]\n",
    "    print sequencesplit\n",
    "    print sequences[1]\n",
    "    print 'sequences is', sequences\n",
    "    return sequences"
   ]
  },
  {
   "cell_type": "code",
   "execution_count": 28,
   "metadata": {},
   "outputs": [
    {
     "ename": "ValueError",
     "evalue": "empty separator",
     "output_type": "error",
     "traceback": [
      "\u001b[0;31m---------------------------------------------------------------------------\u001b[0m",
      "\u001b[0;31mValueError\u001b[0m                                Traceback (most recent call last)",
      "\u001b[0;32m<ipython-input-28-c94289a0f6b3>\u001b[0m in \u001b[0;36m<module>\u001b[0;34m()\u001b[0m\n\u001b[0;32m----> 1\u001b[0;31m \u001b[0mload_sequences\u001b[0m\u001b[0;34m(\u001b[0m\u001b[0;34m'splicedmotifsample.txt'\u001b[0m\u001b[0;34m)\u001b[0m\u001b[0;34m\u001b[0m\u001b[0m\n\u001b[0m",
      "\u001b[0;32m<ipython-input-27-f2dbc37f6917>\u001b[0m in \u001b[0;36mload_sequences\u001b[0;34m(fasta_file)\u001b[0m\n\u001b[1;32m     18\u001b[0m     \u001b[0msequences\u001b[0m \u001b[0;34m=\u001b[0m \u001b[0msequences\u001b[0m\u001b[0;34m.\u001b[0m\u001b[0mvalues\u001b[0m\u001b[0;34m(\u001b[0m\u001b[0;34m)\u001b[0m\u001b[0;34m\u001b[0m\u001b[0m\n\u001b[1;32m     19\u001b[0m     \u001b[0msequence1\u001b[0m \u001b[0;34m=\u001b[0m \u001b[0msequences\u001b[0m\u001b[0;34m[\u001b[0m\u001b[0;36m1\u001b[0m\u001b[0;34m]\u001b[0m\u001b[0;34m\u001b[0m\u001b[0m\n\u001b[0;32m---> 20\u001b[0;31m     \u001b[0msequencesplit\u001b[0m \u001b[0;34m=\u001b[0m \u001b[0msequence1\u001b[0m\u001b[0;34m.\u001b[0m\u001b[0msplit\u001b[0m\u001b[0;34m(\u001b[0m\u001b[0;34m''\u001b[0m\u001b[0;34m)\u001b[0m\u001b[0;34m\u001b[0m\u001b[0m\n\u001b[0m\u001b[1;32m     21\u001b[0m     \u001b[0;32mprint\u001b[0m \u001b[0msequencesplit\u001b[0m\u001b[0;34m\u001b[0m\u001b[0m\n\u001b[1;32m     22\u001b[0m     \u001b[0;32mprint\u001b[0m \u001b[0msequences\u001b[0m\u001b[0;34m[\u001b[0m\u001b[0;36m1\u001b[0m\u001b[0;34m]\u001b[0m\u001b[0;34m\u001b[0m\u001b[0m\n",
      "\u001b[0;31mValueError\u001b[0m: empty separator"
     ]
    }
   ],
   "source": [
    "load_sequences('splicedmotifsample.txt')"
   ]
  },
  {
   "cell_type": "code",
   "execution_count": null,
   "metadata": {},
   "outputs": [],
   "source": [
    "'''Given: Two DNA strings s and t\n",
    "\n",
    "Return: One collection of indices of sin which the symbols of t appear as a subsequence of s. \n",
    "If multiple solutions exist, you may return any one.'''\n",
    "\n",
    "def findmotif(sequences):\n",
    "    '''sequences = [sequence, ['m','o','t','i','f']]'''\n",
    "    \n",
    "    "
   ]
  }
 ],
 "metadata": {
  "kernelspec": {
   "display_name": "Python 2",
   "language": "python",
   "name": "python2"
  },
  "language_info": {
   "codemirror_mode": {
    "name": "ipython",
    "version": 2
   },
   "file_extension": ".py",
   "mimetype": "text/x-python",
   "name": "python",
   "nbconvert_exporter": "python",
   "pygments_lexer": "ipython2",
   "version": "2.7.15"
  }
 },
 "nbformat": 4,
 "nbformat_minor": 2
}
