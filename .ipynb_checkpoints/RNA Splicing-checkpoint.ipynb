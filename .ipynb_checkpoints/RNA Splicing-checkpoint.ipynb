{
 "cells": [
  {
   "cell_type": "code",
   "execution_count": 2,
   "metadata": {},
   "outputs": [],
   "source": [
    "import re"
   ]
  },
  {
   "cell_type": "code",
   "execution_count": 126,
   "metadata": {},
   "outputs": [],
   "source": [
    "#Takes a DNA and any number of introns as a string as input and returns the protein with introns removed. Can also print RNA string\n",
    "\n",
    "def rna_splicing(dna, *introns):\n",
    "    for intron in introns:\n",
    "        dna = re.sub(intron, '', dna)\n",
    "    rna = dna\n",
    "    rna = re.sub('T', 'U', rna)\n",
    "    rnacodon = {\"UUU\" : \"F\", \"CUU\" : \"L\", \"AUU\" : \"I\", \"GUU\" : \"V\", \"UUC\" : \"F\", \"CUC\" : \"L\", \"AUC\" : \"I\",\n",
    "\"GUC\" : \"V\",\n",
    "\"UUA\" : \"L\",\n",
    "\"CUA\" : \"L\",\n",
    "\"AUA\" : \"I\",     \n",
    "\"GUA\" : \"V\",\n",
    "\"UUG\" : \"L\",\n",
    "\"CUG\" : \"L\",\n",
    "\"AUG\" : \"M\",\n",
    "\"GUG\" : \"V\",\n",
    "\"UCU\" : \"S\",\n",
    "\"CCU\" : \"P\",\n",
    "\"ACU\" : \"T\",\n",
    "\"GCU\" : \"A\",\n",
    "\"UCC\" : \"S\",\n",
    "\"CCC\" : \"P\",\n",
    "\"ACC\" : \"T\",\n",
    "\"GCC\" : \"A\",\n",
    "\"UCA\" : \"S\",\n",
    "\"CCA\" : \"P\",\n",
    "\"ACA\" : \"T\",\n",
    "\"GCA\" : \"A\",\n",
    "\"UCG\" : \"S\",\n",
    "\"CCG\" : \"P\",\n",
    "\"ACG\" : \"T\",\n",
    "\"GCG\" : \"A\",\n",
    "\"UAU\" : \"Y\",\n",
    "\"CAU\" : \"H\",\n",
    "\"AAU\" : \"N\",\n",
    "\"GAU\" : \"D\",\n",
    "\"UAC\" : \"Y\",\n",
    "\"CAC\" : \"H\",\n",
    "\"AAC\" : \"N\",\n",
    "\"GAC\" : \"D\",\n",
    "\"UAA\" : \"\",\n",
    "\"CAA\" : \"Q\",\n",
    "\"AAA\" : \"K\",\n",
    "\"GAA\" : \"E\",\n",
    "\"UAG\" : \"\",\n",
    "\"CAG\" : \"Q\",\n",
    "\"AAG\" : \"K\",\n",
    "\"GAG\" : \"E\",\n",
    "\"UGU\" : \"C\",\n",
    "\"CGU\" : \"R\",\n",
    "\"AGU\" : \"S\",\n",
    "\"GGU\" : \"G\",\n",
    "\"UGC\" : \"C\",\n",
    "\"CGC\" : \"R\",\n",
    "\"AGC\" : \"S\",\n",
    "\"GGC\" : \"G\",\n",
    "\"UGA\" : \"\",\n",
    "\"CGA\" : \"R\",\n",
    "\"AGA\" : \"R\",\n",
    "\"GGA\" : \"G\",\n",
    "\"UGG\" : \"W\",\n",
    "\"CGG\" : \"R\",\n",
    "\"AGG\" : \"R\",\n",
    "\"GGG\" : \"G\"\n",
    "}\n",
    "    reading_frame_rna = [rna[i:i+3] for i in range(0, len(rna), 3)]\n",
    "    protein = ''\n",
    "    for codon in reading_frame_rna:\n",
    "        protein += (rnacodon[codon])\n",
    "    print protein\n",
    "    answer = open(\"protein.txt\", \"w+\")\n",
    "    answer.write(protein)\n",
    "    answer.close()"
   ]
  },
  {
   "cell_type": "code",
   "execution_count": 128,
   "metadata": {},
   "outputs": [
    {
     "name": "stdout",
     "output_type": "stream",
     "text": [
      "MVYIADKQHVASREAYGHMFKVCA\n"
     ]
    }
   ],
   "source": [
    "#Practice problem from Rosalind \n",
    "dna4 = 'ATGGTCTACATAGCTGACAAACAGCACGTAGCAATCGGTCGAATCTCGAGAGGCATATGGTCACATGATCGGTCGAGCGTGTTTCAAAGTTTGCGCCTAG'\n",
    "dna2 = 'ATGGTCTACATAGCTGACAAACAGCACGTAGCATCTCGAGAGGCATATGGTCACATGTTCAAAGTTTGCGCCTAG'\n",
    "intron5 = 'ATCGGTCGAA'\n",
    "intron6 = 'ATCGGTCGAGCGTGT'\n",
    "rna_splicing(dna4, intron5, intron6)"
   ]
  },
  {
   "cell_type": "code",
   "execution_count": 127,
   "metadata": {},
   "outputs": [
    {
     "name": "stdout",
     "output_type": "stream",
     "text": [
      "MFLPPLSSCIRGRYELILGILKSCPVVECSATLVRMLRRRSKMTDYGPVKEGLYVLKVVVLGMQKHMYCQTSITIHTVNGQVTGLNKLNGIDKNLSLLDISTLSAIRRVHSCYDPVGPKDNSNSSLLADPLLVTVIRTHGVGIREVRGTGSEAESRLRKAQDSPTYAGSAMMHYVITWSLRRSPPTVDKSMLQT\n"
     ]
    }
   ],
   "source": [
    "rna_splicing('ATGTTCCTGCCCCCGTTGTCAAGTTGCATTCGTAATTTCTGGAGATAATGGACGTTATGAGTTAATTCTCGGGATCCTGAAATCTTGCCCAGTAGTGGAATGTTCCGCCATGGTGCCCAACGTTGGTTCGAATGTTGAGAAGACGCTCCAAAATGACGGACTACGGACCAGTAAAAGAAAATAAGCTTCGTGCGCTAAAACGATATAGGACTTTACGTCCTGAAAGTTGTCGTTTTAGGCATGCAAGAACCAAGTTCACAGGCAAAGGGGTTGTACTACGAAAACACATGTACTGCCAAACGTCTATCCTTATCGTCGGCACGGACCATTCACACTGTGAACGGACAGGTGACCGGACGAAGTACTCAAATTGACTTACTTACAATGAAATTCTGAGTAAGCTAAACAAATTAAACGGCATAGACAAAAACCTGTCTCTCCTTGACATCTCCACGCACCATAGTTGGTACGTAAATTTTTGTCTGAGATCTAGTAAACGGATTGTCGGCCATCCGGCGTGTCCATAGCTGCTATAACTCAGGATTGGTGATCCAGTAGGCCCCAAGGACAACTCTAACTCCTCGCTCCTGCTTTAAGACCTCTGCCTATGAGCAGACCCACTTTTAGTTACGACGAACTCCATACCGTTATTCGAACACATGGAGTTGGTATACGTGAAGTGAGAGGGACCGGATCTGAGGCGTTCGGCCTCTGCAAGCAATAAACTGGGAGAGTCGCGGCTCCGAAAAGCGCAGGACGCGGTACCTTGGATTGTGAGGCGTTTAGGCATGAGCCCGACCTACGCATGTAGTTGTTACGGGAGCGCAATGATGCACTACGTTATTACGAGGTCAAGCAAGGGATTTAAGTCTCCCGGGGTGGTGGAGCTTGCGACGTTCTCCGCCAACGGTTGACAAGTCGATGCTCCAGACCTGA', 'TGTAGTTGTTAC', 'TTCGGCCTCTGCAAGCAATAAACTGGGA', 'AATTTCTGGAGATAAT', 'AATAAGCTTCGTGCGCTAAAACGATATA', 'CTTATCGTCGGCACGG', 'GAACCAAGTTCACAGGCAAAGGGGTTGTACTACGA', 'CACCATAGTTGGTACGTAAATTTTTGTCTGAGATCTAGTAAACGGA', 'CTTTAAGACCTCTGCCTATGA', 'CGAAGTACTCAAATTGACTTACTTACAATGAAATTCTGAGTAAG', 'AGGTCAAGCAAGGGATTTAAGTCTCCCGGGGTGG', 'ACGACGAACTCCAT', 'GCGGTACCTTGGATTGTGAGGCGTTTAGGCATG', 'AACTCAGGATTGGT', 'ATGGTGCCCA')"
   ]
  },
  {
   "cell_type": "code",
   "execution_count": null,
   "metadata": {},
   "outputs": [],
   "source": []
  },
  {
   "cell_type": "code",
   "execution_count": null,
   "metadata": {},
   "outputs": [],
   "source": []
  },
  {
   "cell_type": "code",
   "execution_count": null,
   "metadata": {},
   "outputs": [],
   "source": []
  },
  {
   "cell_type": "code",
   "execution_count": null,
   "metadata": {},
   "outputs": [],
   "source": []
  }
 ],
 "metadata": {
  "kernelspec": {
   "display_name": "Python 2",
   "language": "python",
   "name": "python2"
  },
  "language_info": {
   "codemirror_mode": {
    "name": "ipython",
    "version": 2
   },
   "file_extension": ".py",
   "mimetype": "text/x-python",
   "name": "python",
   "nbconvert_exporter": "python",
   "pygments_lexer": "ipython2",
   "version": "2.7.15"
  }
 },
 "nbformat": 4,
 "nbformat_minor": 2
}
