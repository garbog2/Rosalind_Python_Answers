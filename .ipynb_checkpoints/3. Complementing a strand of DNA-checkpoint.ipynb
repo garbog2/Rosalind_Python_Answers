{
 "cells": [
  {
   "cell_type": "code",
   "execution_count": 24,
   "metadata": {},
   "outputs": [],
   "source": [
    "def reversecomplement(dna):\n",
    "    dnafile = open(dna, 'r')\n",
    "    dna = dnafile.read()\n",
    "    reverse = dna[::-1]\n",
    "    reversecomplement = ''\n",
    "    answer = open('reversecomplementanswer.txt', 'w+')\n",
    "    for bp in reverse:\n",
    "        if bp == 'A':\n",
    "            reversecomplement += 'T'\n",
    "        elif bp == 'T':\n",
    "            reversecomplement += 'A'\n",
    "        elif bp == 'C':\n",
    "            reversecomplement += 'G'\n",
    "        elif bp == 'G':\n",
    "            reversecomplement += 'C'\n",
    "    answer.write(reversecomplement)\n",
    "    answer.close()\n",
    "    print reversecomplement\n",
    "    \n",
    "   "
   ]
  },
  {
   "cell_type": "code",
   "execution_count": 26,
   "metadata": {},
   "outputs": [
    {
     "name": "stdout",
     "output_type": "stream",
     "text": [
      "CGTCTATGCAAGAGACGAGCTCGTCCTCCCGCAGACAGTGTATACTTCGTATGGGATTGTTTGGCCGATTTGCCTAACCAAAAATCAAGACCGCCGATGGAACGTTCTCACCGAAATCGGATAGGTCGTCACTTCAACCATCTGTACAGAAGGATGTATCCCGGGGCCTGCCAGATTTATATACCACGCGGACCGATTTGTTCCGTAGCCTCAAATGAAGGATTCATAATTGGAGGAGCCGTAAACTTTGAGCAAGGCAGCGCACTGATAAGGAGCGACCTGTAATTTCTCACGGACCAGAAAGGTGCGGAACAGCGTGAACCGCACCGGGCCCTATCCAGCATGGAAAAGGGTGGCGCAGCTGCAGCCCCATGAATGTCAGGTGAATGACTTCCTAACAGTAAACTAGGTACTCTGGCCACCTGCCGTATGGGAGTGTACCTGGGTCTTACCTACTCGATAGAAAGCGCAAAGAATGATCCCGCAACGCCTGAACTACGGCTTTGGGGGGACGGGCCCAGATTTGAGTACGTCTACGACGAGCCAGCGCGAAGCCCTACGATTAGGCGACGACAAAGTCGCGAGAGAGCCTCCCCCAGTCTCACCAGGGACGAACAATTCCCCTTAGCGTGAGTAGTCGTGACAAGCGCACCATGCGTAAGTCCTTCTAACTTACCCATACCTGCTATAGTTATCGTCGCTGCCCATTCCTGCTTGCGGTATTATGACCCTCATGAGAATTGGCGCGGTGCGCATATATTACGCAGGGCGTCTGGTAGACGACACAGCAGCGCAGCATTCCTCTTTAAACATTACTGGTCGAAGGGAGTGACCCAATACTCATCGTTGTTGCGAGTAGATGGATAACAACGAAACGCTCTTCGCCCTGTGCGTCGTT\n"
     ]
    }
   ],
   "source": [
    "reversecomplement('rosalind_revc.txt')"
   ]
  },
  {
   "cell_type": "code",
   "execution_count": 3,
   "metadata": {},
   "outputs": [],
   "source": []
  },
  {
   "cell_type": "code",
   "execution_count": null,
   "metadata": {},
   "outputs": [],
   "source": []
  },
  {
   "cell_type": "code",
   "execution_count": null,
   "metadata": {},
   "outputs": [],
   "source": []
  },
  {
   "cell_type": "code",
   "execution_count": null,
   "metadata": {},
   "outputs": [],
   "source": []
  },
  {
   "cell_type": "code",
   "execution_count": null,
   "metadata": {},
   "outputs": [],
   "source": []
  },
  {
   "cell_type": "code",
   "execution_count": null,
   "metadata": {},
   "outputs": [],
   "source": []
  },
  {
   "cell_type": "code",
   "execution_count": null,
   "metadata": {},
   "outputs": [],
   "source": []
  },
  {
   "cell_type": "code",
   "execution_count": null,
   "metadata": {},
   "outputs": [],
   "source": []
  }
 ],
 "metadata": {
  "kernelspec": {
   "display_name": "Python 2",
   "language": "python",
   "name": "python2"
  },
  "language_info": {
   "codemirror_mode": {
    "name": "ipython",
    "version": 2
   },
   "file_extension": ".py",
   "mimetype": "text/x-python",
   "name": "python",
   "nbconvert_exporter": "python",
   "pygments_lexer": "ipython2",
   "version": "2.7.15"
  }
 },
 "nbformat": 4,
 "nbformat_minor": 2
}
