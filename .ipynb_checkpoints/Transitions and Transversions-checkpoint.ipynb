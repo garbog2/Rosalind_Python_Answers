{
 "cells": [
  {
   "cell_type": "code",
   "execution_count": 30,
   "metadata": {},
   "outputs": [],
   "source": [
    "'''Load the fasta files and get back sequences'''\n",
    "def load_sequences(fasta_file):\n",
    "    sequences = {}\n",
    "    sequence = \"\"\n",
    "    start = True\n",
    "    sequence_data = open(fasta_file)\n",
    "    for line in sequence_data:\n",
    "        if start == True:\n",
    "            sequence_id = line.rstrip().lstrip('>')\n",
    "            start = False\n",
    "        else:\n",
    "            if line.startswith('>'):\n",
    "                sequences[sequence_id] = sequence\n",
    "                sequence_id = line.rstrip().lstrip('>')\n",
    "                sequence = ''\n",
    "            else:\n",
    "                sequence += line.strip()\n",
    "                sequences[sequence_id] = sequence\n",
    "    sequences = sequences.values()\n",
    "    return sequences"
   ]
  },
  {
   "cell_type": "code",
   "execution_count": null,
   "metadata": {},
   "outputs": [],
   "source": []
  },
  {
   "cell_type": "code",
   "execution_count": 37,
   "metadata": {},
   "outputs": [],
   "source": [
    "'''For DNA strings s1 and s2 having the same length, \n",
    "their transition/transversion ratio R(s1,s2) \n",
    "is the ratio of the total number of transitions to the total number of transversions, \n",
    "where symbol substitutions are inferredfrom mismatched corresponding symbols \n",
    "as when calculating Hamming distance (see “Counting Point Mutations”).'''\n",
    "\n",
    "def trans2(sequences):\n",
    "    sequence1 = sequences[0]\n",
    "    sequence2 = sequences[1]\n",
    "    transition_count = 0\n",
    "    transversion_count = 0\n",
    "    for i in range(0, len(sequence1)):\n",
    "        if sequence1[i] != sequence2[i]:\n",
    "            if sequence1[i] == 'A' and sequence2[i] == 'G' or sequence1[i] == 'G' and sequence2[i] == 'A':\n",
    "                transition_count += 1\n",
    "            elif sequence1[i] == 'C' and sequence2[i] == 'T' or sequence1[i] == 'T' and sequence2[i] == 'C':\n",
    "                transition_count += 1\n",
    "            else:\n",
    "                transversion_count += 1\n",
    "        else:\n",
    "            transversion_count += 0\n",
    "            transition_count += 0\n",
    "    ratio = float(transition_count)/transversion_count\n",
    "    print ratio\n",
    "    answer = open('transition_transversion_answer.txt', 'w+')\n",
    "    answer.write(str(ratio))\n",
    "    answer.close"
   ]
  },
  {
   "cell_type": "code",
   "execution_count": null,
   "metadata": {},
   "outputs": [],
   "source": []
  },
  {
   "cell_type": "code",
   "execution_count": 41,
   "metadata": {},
   "outputs": [
    {
     "name": "stdout",
     "output_type": "stream",
     "text": [
      "2.25287356322\n"
     ]
    }
   ],
   "source": [
    "file1 = load_sequences('rosalind_tran.txt')\n",
    "trans2(file1)"
   ]
  },
  {
   "cell_type": "raw",
   "metadata": {},
   "source": []
  }
 ],
 "metadata": {
  "kernelspec": {
   "display_name": "Python 2",
   "language": "python",
   "name": "python2"
  },
  "language_info": {
   "codemirror_mode": {
    "name": "ipython",
    "version": 2
   },
   "file_extension": ".py",
   "mimetype": "text/x-python",
   "name": "python",
   "nbconvert_exporter": "python",
   "pygments_lexer": "ipython2",
   "version": "2.7.15"
  }
 },
 "nbformat": 4,
 "nbformat_minor": 2
}
