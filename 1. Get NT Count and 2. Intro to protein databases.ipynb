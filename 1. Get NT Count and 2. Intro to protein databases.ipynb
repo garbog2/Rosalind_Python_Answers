{
 "cells": [
  {
   "cell_type": "code",
   "execution_count": 4,
   "metadata": {},
   "outputs": [],
   "source": [
    "#Given: A DNA string s of length at most 1000 bp.\n",
    "#Return: Four integers (separated by spaces) representing the respective number of times that the symbols 'A', 'C', 'G', and 'T' occur in s.\n",
    "from Bio.Seq import Seq\n",
    "def print_nt_number(s):\n",
    "    seq = Seq(s)\n",
    "    A = seq.count(\"A\")\n",
    "    C = seq.count(\"C\")\n",
    "    G = seq.count(\"G\")\n",
    "    T = seq.count(\"T\")\n",
    "    print A, C, G, T"
   ]
  },
  {
   "cell_type": "code",
   "execution_count": 5,
   "metadata": {},
   "outputs": [
    {
     "name": "stdout",
     "output_type": "stream",
     "text": [
      "20 12 17 21\n"
     ]
    }
   ],
   "source": [
    "#Rosalind example\n",
    "print_nt_number('AGCTTTTCATTCTGACTGCAACGGGCAATATGTCTCTGTGTGGATTAAAAAAAGAGTGTCTGATAGCAGC')"
   ]
  },
  {
   "cell_type": "code",
   "execution_count": null,
   "metadata": {},
   "outputs": [],
   "source": []
  },
  {
   "cell_type": "code",
   "execution_count": 4,
   "metadata": {},
   "outputs": [],
   "source": [
    "#2. Intro to protein databases\n",
    "#Given: The UniProt ID of a protein.\n",
    "#Return: A list of biological processes in which the protein is involved \n",
    "#(biological processes are found in a subsection of the protein's \"Gene Ontology\" (GO) section).\n",
    "\n",
    "\"\"\">>>from Bio import ExPASy\n",
    ">>>from Bio import SwissProt\n",
    ">>>handle = ExPASy.get_sprot_raw('B5ZC00') #you can give several IDs separated by commas\n",
    ">>>record = SwissProt.read(handle) # use SwissProt.parse for multiple proteins\n",
    "ExPASy databases can be accessed automatically via Biopython’s Bio.ExPASy module. The function .get_sprot_raw will find a target protein by its ID.\n",
    "\n",
    "We can obtain data from an entry by using the SwissProt module. The read() function will handle one SwissProt record and parse will allow you to read multiple records at a time.\n",
    "\n",
    "Let's get the data for the B5ZC00 protein:\"\"\"\n",
    "\n",
    "from Bio import ExPASy\n",
    "from Bio import SwissProt\n",
    "from Bio import SeqIO\n",
    "import numpy as np\n",
    "def get_bioprocesses(id):\n",
    "    handle = ExPASy.get_sprot_raw(id)\n",
    "    record = SwissProt.read(handle)\n",
    "    for i in record.cross_references:\n",
    "        if i[0] == 'GO':\n",
    "            if (i[2][0] == 'P'):\n",
    "                print i[2][2:]\n",
    "    \n",
    " \n",
    "    "
   ]
  },
  {
   "cell_type": "code",
   "execution_count": 5,
   "metadata": {},
   "outputs": [
    {
     "name": "stdout",
     "output_type": "stream",
     "text": [
      "glycyl-tRNA aminoacylation\n"
     ]
    }
   ],
   "source": [
    "#Rosalind example\n",
    "get_bioprocesses('B5ZC00')"
   ]
  },
  {
   "cell_type": "code",
   "execution_count": null,
   "metadata": {},
   "outputs": [],
   "source": []
  },
  {
   "cell_type": "code",
   "execution_count": null,
   "metadata": {},
   "outputs": [],
   "source": []
  }
 ],
 "metadata": {
  "kernelspec": {
   "display_name": "Python 2",
   "language": "python",
   "name": "python2"
  },
  "language_info": {
   "codemirror_mode": {
    "name": "ipython",
    "version": 2
   },
   "file_extension": ".py",
   "mimetype": "text/x-python",
   "name": "python",
   "nbconvert_exporter": "python",
   "pygments_lexer": "ipython2",
   "version": "2.7.15"
  }
 },
 "nbformat": 4,
 "nbformat_minor": 2
}
