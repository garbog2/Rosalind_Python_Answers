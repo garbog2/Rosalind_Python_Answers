{
 "cells": [
  {
   "cell_type": "code",
   "execution_count": 4,
   "metadata": {},
   "outputs": [],
   "source": []
  },
  {
   "cell_type": "code",
   "execution_count": 8,
   "metadata": {},
   "outputs": [],
   "source": [
    "import regex as re\n",
    "def find_dna_motif_re(dna, motif):\n",
    "    for m in re.finditer(motif, dna, overlapped = True):\n",
    "        print m.start() + 1,"
   ]
  },
  {
   "cell_type": "code",
   "execution_count": 9,
   "metadata": {},
   "outputs": [
    {
     "name": "stdout",
     "output_type": "stream",
     "text": [
      "2 4 10\n"
     ]
    }
   ],
   "source": [
    "find_dna_motif_re('GATATATGCATATACTT', 'ATAT')"
   ]
  },
  {
   "cell_type": "code",
   "execution_count": 10,
   "metadata": {},
   "outputs": [
    {
     "name": "stdout",
     "output_type": "stream",
     "text": [
      "25 61 79 94 124 152 159 166 181 207 214 221 242 249 269 284 308 469 509 533 540 593 621 724 739 788 833\n"
     ]
    }
   ],
   "source": [
    "find_dna_motif_re('GCTGTTATGCTGTTAACGCCTGGAGCTGTTAGCTGTTAGGCTGTTAGAGTGCTGTTAGGCGCTGTTAGCTGTTAATTAGCTGTTAGCTGTTATGCTGTTAGCTGTTACAGTTGCTGTTAGACCGCTGTTAGCTGTTAGTGGCTGTTAGAAGGCTGTTAGCTGTTAGCTGTTAGCTGTTACGCTGTTAGCTGTTATAAAACTTCTTTGCTGTTAGCTGTTAGCTGTTAGCTGTTACGGGATCGCTGTTAGCTGTTAGCTGTTACTGAGTGCTGTTAGCTGTTAGGCTGTTAGCTGTTATTGCTGTTATGCTGTTAGCTGTTACGTACAGTGCTGTTAGGCGCTGTTAGGCTGTTATGCTGTTAACGAGCTGTTAAGCGCTGTTAATGGGCTGTTACTATCGCTGTTAGGGGGCTGTTAGGTGCTGTTAAGCGGTCACGGCTGTTAGTCCGCCGCTGTTAGAGCTGTTAAGCTGTTAGCTGTTAGGCTGTTAGTCGGCTGTTACACAAGGGCTGTTAGCTGTTAGGTCCTTACTGCTGTTAGCTGTTAGCTGTTAGGCTGTTATGCTCAGTGCTGTTACGCTGTTAACCACTTTGCTGTTAGCTGTTAGGGGCTGTTATCTCGCTGTTAGCTGTTATAGCTGTTAGGCCGAGGCTGTTAGTGCTGTTAGGCTGTTAGAAGCTGTTAACTGCTGTTATGCTGTTATGCTGTTACAATGCTGTTAACGCTGTTAGCTGTTAGGCTGTTAGCTGTTACTGCTGTTAAGTGTGAAGTCGTACGCTGTTAAAGAGCTGTTAGCTGTTAGGGCTGTTAATGCTGTTATGCTGTTACGAAGGCTGTTAGCTGTTAAGCTGTTA', 'GCTGTTAGC')"
   ]
  },
  {
   "cell_type": "code",
   "execution_count": null,
   "metadata": {},
   "outputs": [],
   "source": []
  },
  {
   "cell_type": "code",
   "execution_count": null,
   "metadata": {},
   "outputs": [],
   "source": []
  },
  {
   "cell_type": "code",
   "execution_count": null,
   "metadata": {
    "scrolled": true
   },
   "outputs": [],
   "source": []
  }
 ],
 "metadata": {
  "kernelspec": {
   "display_name": "Python 2",
   "language": "python",
   "name": "python2"
  },
  "language_info": {
   "codemirror_mode": {
    "name": "ipython",
    "version": 2
   },
   "file_extension": ".py",
   "mimetype": "text/x-python",
   "name": "python",
   "nbconvert_exporter": "python",
   "pygments_lexer": "ipython2",
   "version": "2.7.15"
  }
 },
 "nbformat": 4,
 "nbformat_minor": 2
}
