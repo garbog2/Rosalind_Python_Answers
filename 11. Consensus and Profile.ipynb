{
 "cells": [
  {
   "cell_type": "code",
   "execution_count": 5,
   "metadata": {},
   "outputs": [],
   "source": [
    "import numpy as np"
   ]
  },
  {
   "cell_type": "code",
   "execution_count": null,
   "metadata": {},
   "outputs": [],
   "source": []
  },
  {
   "cell_type": "code",
   "execution_count": 16,
   "metadata": {},
   "outputs": [],
   "source": [
    "def con_and_prof1(dna_array):\n",
    "    matrix = []\n",
    "    for i in dna_array:\n",
    "        matrix.append([j for j in i])\n",
    "    M = np.array(matrix).reshape(len(matrix), len(matrix[0])) \n",
    "    print M \n",
    "    A = []\n",
    "    C = []\n",
    "    G = []\n",
    "    T = []\n",
    "    for i in range(len(matrix[0])):\n",
    "        for j in M[:,i]:\n",
    "            a_count = 0\n",
    "            c_count = 0\n",
    "            g_count = 0\n",
    "            t_count = 0\n",
    "            if i == 'A':\n",
    "                a_count += 1\n",
    "            elif i == 'C':\n",
    "                c_count += 1\n",
    "            elif i == 'G':\n",
    "                g_count += 1\n",
    "            elif i =='T':\n",
    "                t_count += 1\n",
    "        A.append(a_count)\n",
    "        C.append(c_count)\n",
    "        G.append(g_count)\n",
    "        T.append(t_count)\n",
    "    profile_matrix = {'A': A, 'C': C, 'G': G, 'T': T}\n",
    "    for k, v in profile_matrix.items():\n",
    "        print k + ':' + \"\".join(str(x) for x in v)"
   ]
  },
  {
   "cell_type": "code",
   "execution_count": 15,
   "metadata": {},
   "outputs": [
    {
     "name": "stdout",
     "output_type": "stream",
     "text": [
      "A:0\n",
      "C:0\n",
      "T:0\n",
      "G:0\n",
      "A:00\n",
      "C:00\n",
      "T:00\n",
      "G:00\n",
      "A:000\n",
      "C:000\n",
      "T:000\n",
      "G:000\n",
      "A:0000\n",
      "C:0000\n",
      "T:0000\n",
      "G:0000\n"
     ]
    }
   ],
   "source": [
    "con_and_prof1()"
   ]
  },
  {
   "cell_type": "code",
   "execution_count": null,
   "metadata": {},
   "outputs": [],
   "source": [
    "A = []\n",
    "C = []\n",
    "G = []\n",
    "T = []\n",
    "for i in range(len(matrix[0])):\n",
    "    A_count = 0\n",
    "    C_count = 0\n",
    "    G_count = 0\n",
    "    T_count = 0\n",
    "    for j in M[:,i]:\n",
    "        if j == \"A\":\n",
    "            A_count += 1\n",
    "        elif j == \"C\":\n",
    "            C_count += 1\n",
    "        elif j == \"G\":\n",
    "            G_count += 1\n",
    "        elif j == \"T\":\n",
    "            T_count += 1\n",
    "    A.append(A_count)\n",
    "    C.append(C_count)\n",
    "    G.append(G_count)\n",
    "    T.append(T_count)\n",
    "\n",
    "profile_matrix = {\"A\": A, \"C\": C, \"G\": G, \"T\": T}\n",
    "for k, v in profile_matrix.items():\n",
    "    print k + \":\" + \" \".join(str(x) for x in v)\n",
    "\n",
    "#get consensus string\n",
    "P = []\n",
    "P.append(A)\n",
    "P.append(C)\n",
    "P.append(G)\n",
    "P.append(T)\n",
    "profile = np.array(P).reshape(4, len(A))"
   ]
  },
  {
   "cell_type": "code",
   "execution_count": null,
   "metadata": {},
   "outputs": [],
   "source": [
    "matrix1 = []\n",
    "for x in list1:\n",
    "    matrix1.append([])\n",
    "\n",
    "\n",
    "\n",
    "\n",
    "dna_sequence in dna_array:\n",
    "        for bp in column:\n",
    "            if bp == 'a':\n",
    "                a_count += 1\n",
    "            elif bp == 't':\n",
    "                t_count += 1\n",
    "            elif bp == 'g':\n",
    "                g_count += 1\n",
    "            elif bp == 'c':\n",
    "                c_count += 1"
   ]
  },
  {
   "cell_type": "code",
   "execution_count": null,
   "metadata": {},
   "outputs": [],
   "source": [
    "matrix = []\n",
    "for i in strings:\n",
    "    matrix.append([j for j in i])\n",
    "M = np.array(matrix).reshape(len(matrix),len(matrix[0]))"
   ]
  },
  {
   "cell_type": "code",
   "execution_count": null,
   "metadata": {},
   "outputs": [],
   "source": [
    "   for index in range(len(dna_array[0])):\n",
    "        bp_count = {'A':0, 'T':0, 'C':0, 'G':0}\n",
    "        for dna_strand in dna_array:\n",
    "            current_bp = dna_strand[index]\n",
    "            bp_count[current_bp] += 1\n",
    "        final_profile[index]"
   ]
  }
 ],
 "metadata": {
  "kernelspec": {
   "display_name": "Python 2",
   "language": "python",
   "name": "python2"
  },
  "language_info": {
   "codemirror_mode": {
    "name": "ipython",
    "version": 2
   },
   "file_extension": ".py",
   "mimetype": "text/x-python",
   "name": "python",
   "nbconvert_exporter": "python",
   "pygments_lexer": "ipython2",
   "version": "2.7.15"
  }
 },
 "nbformat": 4,
 "nbformat_minor": 2
}
