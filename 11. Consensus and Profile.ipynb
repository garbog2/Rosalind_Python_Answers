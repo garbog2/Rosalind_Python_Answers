{
 "cells": [
  {
   "cell_type": "code",
   "execution_count": 2,
   "metadata": {},
   "outputs": [],
   "source": [
    "import numpy as np"
   ]
  },
  {
   "cell_type": "code",
   "execution_count": null,
   "metadata": {},
   "outputs": [],
   "source": [
    "dna_array = ['ATCCAGCT', 'GGGCAACT', 'ATGGATCT', 'AAGCAACC', 'TTGGAACT', 'ATGCCATT', 'ATGGCACT']"
   ]
  },
  {
   "cell_type": "code",
   "execution_count": null,
   "metadata": {},
   "outputs": [],
   "source": [
    "def con_and_prof(dna_array):\n",
    "    final_profile = []\n",
    "    for index in range(len(dna_array[0])):\n",
    "        bp_count = {'A':0, 'T':0, 'C':0, 'G':0}\n",
    "        for dna_strand in dna_array:\n",
    "            current_bp = dna_strand[index]\n",
    "            bp_count[current_bp] += 1\n",
    "        final_profile[index]:"
   ]
  },
  {
   "cell_type": "code",
   "execution_count": null,
   "metadata": {},
   "outputs": [],
   "source": [
    "dna_sequence in dna_array:\n",
    "        for bp in column:\n",
    "            if bp == 'a':\n",
    "                a_count += 1\n",
    "            elif bp == 't':\n",
    "                t_count += 1\n",
    "            elif bp == 'g':\n",
    "                g_count += 1\n",
    "            elif bp == 'c':\n",
    "                c_count += 1"
   ]
  }
 ],
 "metadata": {
  "kernelspec": {
   "display_name": "Python 2",
   "language": "python",
   "name": "python2"
  },
  "language_info": {
   "codemirror_mode": {
    "name": "ipython",
    "version": 2
   },
   "file_extension": ".py",
   "mimetype": "text/x-python",
   "name": "python",
   "nbconvert_exporter": "python",
   "pygments_lexer": "ipython2",
   "version": "2.7.15"
  }
 },
 "nbformat": 4,
 "nbformat_minor": 2
}
