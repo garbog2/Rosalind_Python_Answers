{
 "cells": [
  {
   "cell_type": "code",
   "execution_count": null,
   "metadata": {},
   "outputs": [],
   "source": [
    "def rna_to_protein(rna):\n",
    "    rnafile = open(rna, 'r')\n",
    "    rna = rnafile.read()\n",
    "    rnacodon = {\"UUU\" : \"F\", \"CUU\" : \"L\", \"AUU\" : \"I\", \"GUU\" : \"V\", \"UUC\" : \"F\", \"CUC\" : \"L\", \"AUC\" : \"I\",\n",
    "\"GUC\" : \"V\",\n",
    "\"UUA\" : \"L\",\n",
    "\"CUA\" : \"L\",\n",
    "\"AUA\" : \"I\",     \n",
    "\"GUA\" : \"V\",\n",
    "\"UUG\" : \"L\",\n",
    "\"CUG\" : \"L\",\n",
    "\"AUG\" : \"M\",\n",
    "\"GUG\" : \"V\",\n",
    "\"UCU\" : \"S\",\n",
    "\"CCU\" : \"P\",\n",
    "\"ACU\" : \"T\",\n",
    "\"GCU\" : \"A\",\n",
    "\"UCC\" : \"S\",\n",
    "\"CCC\" : \"P\",\n",
    "\"ACC\" : \"T\",\n",
    "\"GCC\" : \"A\",\n",
    "\"UCA\" : \"S\",\n",
    "\"CCA\" : \"P\",\n",
    "\"ACA\" : \"T\",\n",
    "\"GCA\" : \"A\",\n",
    "\"UCG\" : \"S\",\n",
    "\"CCG\" : \"P\",\n",
    "\"ACG\" : \"T\",\n",
    "\"GCG\" : \"A\",\n",
    "\"UAU\" : \"Y\",\n",
    "\"CAU\" : \"H\",\n",
    "\"AAU\" : \"N\",\n",
    "\"GAU\" : \"D\",\n",
    "\"UAC\" : \"Y\",\n",
    "\"CAC\" : \"H\",\n",
    "\"AAC\" : \"N\",\n",
    "\"GAC\" : \"D\",\n",
    "\"UAA\" : \"\",\n",
    "\"CAA\" : \"Q\",\n",
    "\"AAA\" : \"K\",\n",
    "\"GAA\" : \"E\",\n",
    "\"UAG\" : \"\",\n",
    "\"CAG\" : \"Q\",\n",
    "\"AAG\" : \"K\",\n",
    "\"GAG\" : \"E\",\n",
    "\"UGU\" : \"C\",\n",
    "\"CGU\" : \"R\",\n",
    "\"AGU\" : \"S\",\n",
    "\"GGU\" : \"G\",\n",
    "\"UGC\" : \"C\",\n",
    "\"CGC\" : \"R\",\n",
    "\"AGC\" : \"S\",\n",
    "\"GGC\" : \"G\",\n",
    "\"UGA\" : \"\",\n",
    "\"CGA\" : \"R\",\n",
    "\"AGA\" : \"R\",\n",
    "\"GGA\" : \"G\",\n",
    "\"UGG\" : \"W\",\n",
    "\"CGG\" : \"R\",\n",
    "\"AGG\" : \"R\",\n",
    "\"GGG\" : \"G\"\n",
    "}\n",
    "    reading_frame_rna = [rna[i:i+3] for i in range(0, len(rna), 3)]\n",
    "    protein = ''\n",
    "    for codon in reading_frame_rna:\n",
    "        protein += (rnacodon[codon])\n",
    "    print protein\n",
    "    answer = open(\"rna_to_protein_answer.txt\", \"w+\")\n",
    "    answer.write(protein)\n",
    "    answer.close()\n",
    "    \n",
    "    "
   ]
  },
  {
   "cell_type": "code",
   "execution_count": null,
   "metadata": {},
   "outputs": [],
   "source": []
  },
  {
   "cell_type": "code",
   "execution_count": null,
   "metadata": {},
   "outputs": [],
   "source": []
  },
  {
   "cell_type": "code",
   "execution_count": null,
   "metadata": {},
   "outputs": [],
   "source": []
  },
  {
   "cell_type": "code",
   "execution_count": null,
   "metadata": {},
   "outputs": [],
   "source": []
  },
  {
   "cell_type": "code",
   "execution_count": null,
   "metadata": {},
   "outputs": [],
   "source": []
  },
  {
   "cell_type": "code",
   "execution_count": null,
   "metadata": {},
   "outputs": [],
   "source": []
  },
  {
   "cell_type": "code",
   "execution_count": null,
   "metadata": {},
   "outputs": [],
   "source": []
  },
  {
   "cell_type": "code",
   "execution_count": null,
   "metadata": {},
   "outputs": [],
   "source": []
  }
 ],
 "metadata": {
  "kernelspec": {
   "display_name": "Python 2",
   "language": "python",
   "name": "python2"
  },
  "language_info": {
   "codemirror_mode": {
    "name": "ipython",
    "version": 2
   },
   "file_extension": ".py",
   "mimetype": "text/x-python",
   "name": "python",
   "nbconvert_exporter": "python",
   "pygments_lexer": "ipython2",
   "version": "2.7.15"
  }
 },
 "nbformat": 4,
 "nbformat_minor": 2
}
