{
 "cells": [
  {
   "cell_type": "code",
   "execution_count": 4,
   "metadata": {},
   "outputs": [],
   "source": [
    "#Given: A DNA string s of length at most 1000 bp.\n",
    "#Return: Four integers (separated by spaces) representing the respective number of times that the symbols 'A', 'C', 'G', and 'T' occur in s.\n",
    "from Bio.Seq import Seq\n",
    "def print_nt_number(s):\n",
    "    seq = Seq(s)\n",
    "    A = seq.count(\"A\")\n",
    "    C = seq.count(\"C\")\n",
    "    G = seq.count(\"G\")\n",
    "    T = seq.count(\"T\")\n",
    "    print A, C, G, T"
   ]
  },
  {
   "cell_type": "code",
   "execution_count": 5,
   "metadata": {},
   "outputs": [
    {
     "name": "stdout",
     "output_type": "stream",
     "text": [
      "20 12 17 21\n"
     ]
    }
   ],
   "source": [
    "print_nt_number('AGCTTTTCATTCTGACTGCAACGGGCAATATGTCTCTGTGTGGATTAAAAAAAGAGTGTCTGATAGCAGC')"
   ]
  },
  {
   "cell_type": "code",
   "execution_count": 6,
   "metadata": {},
   "outputs": [
    {
     "name": "stdout",
     "output_type": "stream",
     "text": [
      "237 239 232 241\n"
     ]
    }
   ],
   "source": [
    "print_nt_number('GACGTGAGGTGCGGACCGACATTCCTAACTCAACTCAATAGCCCTACTAGTTGCCCTGCAGCGTGTGATACTTATCCCCGGCTGGGGGGATTTGTGCAATTCACGAAAACAGCCTTAGCTAACTCACTAGACGGAAATACCTAGAGCAATCGTACCTTGCCTGAGGAGACCAAAGTATGCAGAAACCGTTTTTTCCCGCTGTTATGTCTCGGCTAAATTTGACGTTCCTTAGGGCTGGTTACTCCCCATTAGCGGAATGGCTTTGGATGCTTAGTCCGGTGAAGGCTCCTCATCCGCGGTATTTCATTTCCTCTCGTCGCAAACTAGGATTACCACATGGCCTACTTCCGGAAGCGCGTAAGAGTCACGCCACGCTGGGTAGATGATCAGTGGCCCGACTACCTTTTGATGATACCTTATTTATCCCACTGGATCGTCTAATAGCACCAGGCGTATTGTTCCCTCAAAATGCATCGGATAGTGGAATTGCACCGCGACAGCAGATCCAGACCTCTAAGCGTGTCCGGCTAAACCTGGGCCCCATGTCATAGAGTTGACACAATCTATAAATTCATTGGGCTAAGGGGCCCGCTGATGTAAGGTAGTGATTCTATAAATCCTAGCGATCAATAATACTCTTAATGGGGTCGTGTGCACTTCACTAATTGGACATAGCGACGTGGTAGCGGGTCATTCAGTTATACCTGGACCAACGAATGCCGTTCGGGGCTGTGGCAATAGGTAGAGCCGGACGTGCTGTCCACTACGTTCAAAACAGCTACGGCTAGGGTAACCACCCAGATGCGGCGATTAACGGCAGACCTGTTCCCGCAAAAAGATGAATGTAGATGTAGCCACAATCATTTCAGGAGATACCTGAGGGATCCCGTCTGTCTCCAGTGTGACAGGAGGTACAATGAATGTGCACTTCGATTTACTTGCATCCTCC')"
   ]
  },
  {
   "cell_type": "code",
   "execution_count": 68,
   "metadata": {},
   "outputs": [],
   "source": [
    "#Given: The UniProt ID of a protein.\n",
    "#Return: A list of biological processes in which the protein is involved \n",
    "#(biological processes are found in a subsection of the protein's \"Gene Ontology\" (GO) section).\n",
    "\n",
    "\"\"\">>>from Bio import ExPASy\n",
    ">>>from Bio import SwissProt\n",
    ">>>handle = ExPASy.get_sprot_raw('B5ZC00') #you can give several IDs separated by commas\n",
    ">>>record = SwissProt.read(handle) # use SwissProt.parse for multiple proteins\n",
    "ExPASy databases can be accessed automatically via Biopython’s Bio.ExPASy module. The function .get_sprot_raw will find a target protein by its ID.\n",
    "\n",
    "We can obtain data from an entry by using the SwissProt module. The read() function will handle one SwissProt record and parse will allow you to read multiple records at a time.\n",
    "\n",
    "Let's get the data for the B5ZC00 protein:\"\"\"\n",
    "\n",
    "from Bio import ExPASy\n",
    "from Bio import SwissProt\n",
    "from Bio import SeqIO\n",
    "import numpy as np\n",
    "def get_bioprocesses(id):\n",
    "    handle = ExPASy.get_sprot_raw(id)\n",
    "    record = SwissProt.read(handle)\n",
    "    print record.cross_references\n",
    "    for i in record.cross_references:\n",
    "        print \"i[1][0]\" + i[1][0]\n",
    "        if i[0] == 'GO':\n",
    "            if (i[2][0] == 'P'):\n",
    "                print i[2][2:]\n",
    "    \n",
    " \n",
    "    "
   ]
  },
  {
   "cell_type": "code",
   "execution_count": 69,
   "metadata": {},
   "outputs": [
    {
     "name": "stdout",
     "output_type": "stream",
     "text": [
      "[('EMBL', 'CP001184', 'ACI60310.1', '-', 'Genomic_DNA'), ('RefSeq', 'WP_004025511.1', 'NC_011374.1'), ('ProteinModelPortal', 'B5ZC00', '-'), ('SMR', 'B5ZC00', '-'), ('STRING', '565575.UUR10_0564', '-'), ('EnsemblBacteria', 'ACI60310', 'ACI60310', 'UUR10_0564'), ('KEGG', 'uue:UUR10_0564', '-'), ('eggNOG', 'ENOG4105D9H', 'Bacteria'), ('eggNOG', 'COG0423', 'LUCA'), ('HOGENOM', 'HOG000242016', '-'), ('KO', 'K01880', '-'), ('OMA', 'EPSYGID', '-'), ('Proteomes', 'UP000002018', 'Chromosome'), ('GO', 'GO:0005737', 'C:cytoplasm', 'IEA:UniProtKB-SubCell'), ('GO', 'GO:0005524', 'F:ATP binding', 'IEA:UniProtKB-KW'), ('GO', 'GO:0004820', 'F:glycine-tRNA ligase activity', 'ISS:UniProtKB'), ('GO', 'GO:0046983', 'F:protein dimerization activity', 'ISS:UniProtKB'), ('GO', 'GO:0006426', 'P:glycyl-tRNA aminoacylation', 'IEA:InterPro'), ('CDD', 'cd00774', 'GlyRS-like_core', '1'), ('Gene3D', '3.40.50.800', '-', '1'), ('HAMAP', 'MF_00253_B', 'Gly_tRNA_synth_B', '1'), ('InterPro', 'IPR002314', 'aa-tRNA-synt_IIb'), ('InterPro', 'IPR006195', 'aa-tRNA-synth_II'), ('InterPro', 'IPR004154', 'Anticodon-bd'), ('InterPro', 'IPR036621', 'Anticodon-bd_dom_sf'), ('InterPro', 'IPR027031', 'Gly-tRNA_synthase/POLG2'), ('InterPro', 'IPR022961', 'Gly_tRNA_ligase_bac'), ('InterPro', 'IPR033731', 'GlyRS-like_core'), ('InterPro', 'IPR002315', 'tRNA-synt_gly'), ('PANTHER', 'PTHR10745', 'PTHR10745', '3'), ('Pfam', 'PF03129', 'HGTP_anticodon', '1'), ('Pfam', 'PF00587', 'tRNA-synt_2b', '1'), ('PRINTS', 'PR01043', 'TRNASYNTHGLY'), ('TIGRFAMs', 'TIGR00389', 'glyS_dimeric', '1'), ('PROSITE', 'PS50862', 'AA_TRNA_LIGASE_II', '1')]\n",
      "i[1][0]C\n",
      "i[1][0]W\n",
      "i[1][0]B\n",
      "i[1][0]B\n",
      "i[1][0]5\n",
      "i[1][0]A\n",
      "i[1][0]u\n",
      "i[1][0]E\n",
      "i[1][0]C\n",
      "i[1][0]H\n",
      "i[1][0]K\n",
      "i[1][0]E\n",
      "i[1][0]U\n",
      "i[1][0]G\n",
      "i[1][0]G\n",
      "i[1][0]G\n",
      "i[1][0]G\n",
      "i[1][0]G\n",
      "i[2][2:]glycyl-tRNA aminoacylation\n",
      "i[1][0]c\n",
      "i[1][0]3\n",
      "i[1][0]M\n",
      "i[1][0]I\n",
      "i[1][0]I\n",
      "i[1][0]I\n",
      "i[1][0]I\n",
      "i[1][0]I\n",
      "i[1][0]I\n",
      "i[1][0]I\n",
      "i[1][0]I\n",
      "i[1][0]P\n",
      "i[1][0]P\n",
      "i[1][0]P\n",
      "i[1][0]P\n",
      "i[1][0]T\n",
      "i[1][0]P\n"
     ]
    }
   ],
   "source": [
    "get_bioprocesses('B5ZC00')"
   ]
  },
  {
   "cell_type": "code",
   "execution_count": null,
   "metadata": {},
   "outputs": [],
   "source": [
    "\n"
   ]
  },
  {
   "cell_type": "code",
   "execution_count": null,
   "metadata": {},
   "outputs": [],
   "source": [
    "for i in record.cross_references:\n",
    "        if (i[0] == 'GO'):\n",
    "            if (i[2][0] == 'P'):\n",
    "                print i[2][2:]"
   ]
  }
 ],
 "metadata": {
  "kernelspec": {
   "display_name": "Python 2",
   "language": "python",
   "name": "python2"
  },
  "language_info": {
   "codemirror_mode": {
    "name": "ipython",
    "version": 2
   },
   "file_extension": ".py",
   "mimetype": "text/x-python",
   "name": "python",
   "nbconvert_exporter": "python",
   "pygments_lexer": "ipython2",
   "version": "2.7.15"
  }
 },
 "nbformat": 4,
 "nbformat_minor": 2
}
