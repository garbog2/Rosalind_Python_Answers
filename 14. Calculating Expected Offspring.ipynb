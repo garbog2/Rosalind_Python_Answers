{
 "cells": [
  {
   "cell_type": "code",
   "execution_count": 5,
   "metadata": {},
   "outputs": [],
   "source": [
    "import numpy as np"
   ]
  },
  {
   "cell_type": "code",
   "execution_count": 18,
   "metadata": {},
   "outputs": [],
   "source": [
    "def calculate_expected_offspring(gen_dist):\n",
    "    gen_dist_list_s = list(gen_dist)\n",
    "    gen_dist_list_i = map(int, gen_dist_list_s)\n",
    "    probability = np.array([1, 1, 1, 0.75, 0.5, 0])\n",
    "    gen_dist_npy = np.array([gen_dist_list_i]) #not sure if here I need square brackets\n",
    "    final_prob_list = probability * gen_dist_npy * 2\n",
    "    final_prob = np.sum(final_prob_list)\n",
    "    print final_prob\n"
   ]
  },
  {
   "cell_type": "code",
   "execution_count": 20,
   "metadata": {},
   "outputs": [
    {
     "name": "stdout",
     "output_type": "stream",
     "text": [
      "3.5\n",
      "[1.   1.   1.   0.75 0.5  0.  ]\n",
      "[[1 0 0 1 0 1]]\n",
      "[[2.  0.  0.  1.5 0.  0. ]]\n"
     ]
    }
   ],
   "source": [
    "calculate_expected_offspring('100101')"
   ]
  },
  {
   "cell_type": "code",
   "execution_count": null,
   "metadata": {},
   "outputs": [],
   "source": []
  }
 ],
 "metadata": {
  "kernelspec": {
   "display_name": "Python 2",
   "language": "python",
   "name": "python2"
  },
  "language_info": {
   "codemirror_mode": {
    "name": "ipython",
    "version": 2
   },
   "file_extension": ".py",
   "mimetype": "text/x-python",
   "name": "python",
   "nbconvert_exporter": "python",
   "pygments_lexer": "ipython2",
   "version": "2.7.15"
  }
 },
 "nbformat": 4,
 "nbformat_minor": 2
}
