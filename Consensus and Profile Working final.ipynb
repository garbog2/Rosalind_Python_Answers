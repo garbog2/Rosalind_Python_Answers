{
 "cells": [
  {
   "cell_type": "code",
   "execution_count": 1,
   "metadata": {},
   "outputs": [],
   "source": [
    "import numpy as np"
   ]
  },
  {
   "cell_type": "code",
   "execution_count": 78,
   "metadata": {},
   "outputs": [],
   "source": []
  },
  {
   "cell_type": "code",
   "execution_count": 118,
   "metadata": {},
   "outputs": [],
   "source": [
    "def con_and_prof1(dna_array):\n",
    "    #profile matrix\n",
    "    matrix = []\n",
    "    for i in dna_array:\n",
    "        matrix.append([j for j in i])\n",
    "    M = np.array(matrix).reshape(len(matrix), len(matrix[0])) \n",
    "    A = []\n",
    "    C = []\n",
    "    G = []\n",
    "    T = []\n",
    "    for i in range(len(matrix[0])):\n",
    "        for j in M[:,i]:\n",
    "            a_count = 0\n",
    "            c_count = 0\n",
    "            g_count = 0\n",
    "            t_count = 0\n",
    "            if j == 'A':\n",
    "                a_count += 1\n",
    "            elif j == 'C':\n",
    "                c_count += 1\n",
    "            elif j == 'G':\n",
    "                g_count += 1\n",
    "            elif j =='T':\n",
    "                t_count += 1\n",
    "        A.append(a_count)\n",
    "        C.append(c_count)\n",
    "        G.append(g_count)\n",
    "        T.append(t_count)\n",
    "    profile_matrix = {'A': A, 'C': C, 'G': G, 'T': T}\n",
    "    for k, v in profile_matrix.items():\n",
    "        answer_1 = k + ': ' + \"\".join(str(x) for x in v)\n",
    "        print answer_1\n",
    "        p = []\n",
    "    p.append(A)\n",
    "    p.append(C)\n",
    "    p.append(G)\n",
    "    p.append(T)\n",
    "    leng = len(C)\n",
    "    profile = np.array(p).reshape(4, leng)\n",
    "    consensus_string = []\n",
    "    for i in range(leng):\n",
    "        if max(profile[:, i]) == profile[0, i]:\n",
    "            consensus_string.append('A')\n",
    "        elif max(profile[:, i]) == profile[1, i]:\n",
    "            consensus_string.append('C')\n",
    "        elif max(profile[:, i]) == profile[2, i]:\n",
    "            consensus_string.append('G')\n",
    "        elif max(profile[:, i]) == profile[3, i]:\n",
    "            consensus_string.append('T')\n",
    "    answer_2 = \"\".join(consensus_string)\n",
    "    print answer_2\n"
   ]
  },
  {
   "cell_type": "code",
   "execution_count": null,
   "metadata": {},
   "outputs": [],
   "source": []
  },
  {
   "cell_type": "code",
   "execution_count": null,
   "metadata": {},
   "outputs": [],
   "source": []
  },
  {
   "cell_type": "code",
   "execution_count": null,
   "metadata": {},
   "outputs": [],
   "source": []
  },
  {
   "cell_type": "code",
   "execution_count": null,
   "metadata": {},
   "outputs": [],
   "source": []
  },
  {
   "cell_type": "code",
   "execution_count": null,
   "metadata": {},
   "outputs": [],
   "source": []
  }
 ],
 "metadata": {
  "kernelspec": {
   "display_name": "Python 2",
   "language": "python",
   "name": "python2"
  },
  "language_info": {
   "codemirror_mode": {
    "name": "ipython",
    "version": 2
   },
   "file_extension": ".py",
   "mimetype": "text/x-python",
   "name": "python",
   "nbconvert_exporter": "python",
   "pygments_lexer": "ipython2",
   "version": "2.7.15"
  }
 },
 "nbformat": 4,
 "nbformat_minor": 2
}
