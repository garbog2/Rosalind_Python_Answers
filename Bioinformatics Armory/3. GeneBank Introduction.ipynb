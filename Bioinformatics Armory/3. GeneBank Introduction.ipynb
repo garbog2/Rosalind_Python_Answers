{
 "cells": [
  {
   "cell_type": "code",
   "execution_count": null,
   "metadata": {},
   "outputs": [],
   "source": [
    "\"\"\"NCBI's databases, such as PubMed, GenBank, GEO, and many others, can be accessed via Entrez, a data retrieval system offered by NCBI. For direct access to Entrez, you can use Biopython’s Bio.Entrez module.\n",
    "\n",
    "The Bio.Entrez.esearch() function will search any of the NCBI databases. This function takes the following arguments:\n",
    "\n",
    "    db : The database to search. For example, this field can be nucleotide for GenBank or pubmed for PubMed.\n",
    "    term: The search term for the \"Query\" field. You can use search tags here.\n",
    "\n",
    "We will now demonstrate a quick search for the rbcL gene in corn (Zea mays):\n",
    "\n",
    ">>>from Bio import Entrez\n",
    ">>>Entrez.email = \"your_name@your_mail_server.com\"\n",
    ">>>handle = Entrez.esearch(db=\"nucleotide\", term='\"Zea mays\"[Organism] AND rbcL[Gene]')\n",
    ">>>record = Entrez.read(handle)\n",
    ">>>record[\"Count\"]\n",
    "'6' # Surely this value will change over time because GenBank is constantly updated\n",
    "\n",
    "Note that when you request Entrez databases you must obey NCBI's requirements:\n",
    "\n",
    "    For any series of more than 100 requests, access the database on the weekend or outside peak times in the US.\n",
    "    Make no more than three requests every second.\n",
    "    Fill in the Entrez.email field so that NCBI can contact you if there is a problem.\n",
    "    Be sensible with your usage levels; if you want to download whole mammalian genomes, use NCBI's FTP.\n",
    "\"\"\"\n",
    "\n",
    "\"\"\"(\"Anthoxanthum\"[Organism] OR Anthoxanthum[All Fields]) AND (\"2013/01/01\"[PDAT] : \"2014/12/31\"[PDAT])\"\"\""
   ]
  },
  {
   "cell_type": "code",
   "execution_count": 3,
   "metadata": {},
   "outputs": [],
   "source": [
    "from Bio import Entrez\n",
    "Entrez.email = 'garbog2@gmail.com'"
   ]
  },
  {
   "cell_type": "code",
   "execution_count": 31,
   "metadata": {},
   "outputs": [],
   "source": [
    "def findgenebankdates(genus, date1, date2):\n",
    "    searchresult = Entrez.esearch(db=\"nucleotide\", term = '(\"genus\"[Organism] OR genus[All Fields]) AND (\"date1\"[PDAT] : \"date2\"[PDAT])')\n",
    "    searchrecord = Entrez.read(searchresult)\n",
    "    print searchrecord['Count']"
   ]
  },
  {
   "cell_type": "code",
   "execution_count": 32,
   "metadata": {},
   "outputs": [
    {
     "name": "stdout",
     "output_type": "stream",
     "text": [
      "0\n"
     ]
    }
   ],
   "source": [
    "#Anthoxanthum\n",
    "#2003/7/25\n",
    "#2005/12/27\n",
    "\n",
    "findgenebankdates(\"Anthoxanthum\", \"2003/7/25\", \"2005/12/27\")"
   ]
  },
  {
   "cell_type": "code",
   "execution_count": 44,
   "metadata": {},
   "outputs": [
    {
     "data": {
      "text/plain": [
       "'15'"
      ]
     },
     "execution_count": 44,
     "metadata": {},
     "output_type": "execute_result"
    }
   ],
   "source": [
    "from Bio import Entrez\n",
    "Entrez.email = \"garbog2@gmail.com\"\n",
    "searchres = Entrez.esearch(db = 'nucleotide', term = '\"Zea mays\"[Organism] AND rbcL[Gene]')\n",
    "record1 = Entrez.read(searchres)\n",
    "record1[\"Count\"]"
   ]
  },
  {
   "cell_type": "code",
   "execution_count": 47,
   "metadata": {},
   "outputs": [
    {
     "name": "stdout",
     "output_type": "stream",
     "text": [
      "16\n"
     ]
    }
   ],
   "source": [
    "from Bio import Entrez\n",
    "Entrez.email = \"garbog2@gmail.com\"\n",
    "searchres1 = Entrez.esearch(db = 'nucleotide', term = '(\"Dracula\"[Organism] OR Dracula[All Fields]) AND (\"2000/05/12\"[PDAT] : \"2003/08/22\"[PDAT])')\n",
    "record2 = Entrez.read(searchres1)\n",
    "print record2[\"Count\"]"
   ]
  },
  {
   "cell_type": "code",
   "execution_count": null,
   "metadata": {},
   "outputs": [],
   "source": []
  }
 ],
 "metadata": {
  "kernelspec": {
   "display_name": "Python 2",
   "language": "python",
   "name": "python2"
  },
  "language_info": {
   "codemirror_mode": {
    "name": "ipython",
    "version": 2
   },
   "file_extension": ".py",
   "mimetype": "text/x-python",
   "name": "python",
   "nbconvert_exporter": "python",
   "pygments_lexer": "ipython2",
   "version": "2.7.15"
  }
 },
 "nbformat": 4,
 "nbformat_minor": 2
}
