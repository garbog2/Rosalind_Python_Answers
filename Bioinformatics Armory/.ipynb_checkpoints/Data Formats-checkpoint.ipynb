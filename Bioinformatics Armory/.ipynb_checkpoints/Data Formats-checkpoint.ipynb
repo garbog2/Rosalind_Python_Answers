{
 "cells": [
  {
   "cell_type": "code",
   "execution_count": null,
   "metadata": {},
   "outputs": [],
   "source": [
    "#Notes\n",
    "\"\"\" Use Bio.Entrez function \n",
    "Bio.Entrez.efetch(db, rettype). db - database to search, rettype - data format to be returned. \n",
    "Example of efetch():\n",
    "from Bio import Entrez\n",
    "Entrez.email = 'garbog2@gmail.com'\n",
    "handle = Entrez.efetch(db = 'nucleotide', id = [\"ID1, ID2, ID3\"], rettype = 'fasta')\n",
    "records = handle.read()\n",
    "print records\n",
    "\n",
    "To work with FASTA format, use Bio.SeqIO - provides an interface to input and output methods for different formats.\n",
    "Bio.SeqIO.parse() takes handle and format name as parameters and returns entries as SeqRecords. I.E.:\n",
    "from Bio import Entrez\n",
    "from Bio import SeqIO\n",
    "Entrez.email = \"\"\n",
    "handle = Entrez.efetch(db=\"DB\", id = [\"IDs\"], rettype = 'fasta')\n",
    "records = list(SeqI0.parse(handle, \"fasta\")) #this gives a list of SeqIO objects in FASTA\n",
    "print records[0].id #prints first record ID\n",
    "print len(records[-1].seq) #prints length of last record.\n",
    "\n",
    "So one thing at a time. Figure out how to get each record in the list. \n",
    "Then figure out how to reference each of those’s sequence. \n",
    "Then do that which you just asked if you should \n",
    "Should I store the first sequence in shortest and compare each consecutive index to the length of shortest, \n",
    "and if it’s less than the length, replace it\"\"\""
   ]
  },
  {
   "cell_type": "code",
   "execution_count": 57,
   "metadata": {},
   "outputs": [
    {
     "name": "stdout",
     "output_type": "stream",
     "text": [
      "JX462669.1 Belgica antarctica ribosomal protein 49 (rp49) mRNA, complete cds\n",
      "ATGGCAGTTCGACCAGCATTCAAACCCAAAATCATCAAAAAGAGAACGAAGAAGTTCATCCGCCATCAGTCGGACCGATATGACAAAGTCAAGGAAGCTTGGCGCAAGCCCAAGGGTATTGACAACAGAGTCAGACGTCGCTTTAAGGGACAGTACCTGATGCCAAACATCGGCTACGGTTCCAACGCCAAGACCCGCCACATGCTCCCCAACGGCTTCAAGAAGTTCACCGTCAACAACGTCCGCGAGTTGGAGGTCTTGATGATGCAAAACCGCGTTTACTGCGCCGAGGTCGCTCACGCCGTCAGCGCCAAGAAGCGTAAGCTGATCTGCGAACGTGCTAAGCAGCTGGGAATCCGTGTGACCAACTTCCACGCAAGAATGCGATCACAGGAAAATGAGTAA\n"
     ]
    }
   ],
   "source": [
    "from Bio import Entrez\n",
    "from Bio import SeqIO\n",
    "Entrez.email = \"garbog2@gmail.com\"\n",
    "search = Entrez.efetch(db = \"nucleotide\", id=[\"JX475045 NM_001172751 JN573266 BT149867 NM_001082732 NM_214399 JQ342169 JQ712977 JX462669\"], rettype = \"fasta\")\n",
    "answers = list(SeqIO.parse(search, \"fasta\"))\n",
    "shortest = answers[0].seq\n",
    "lengthshortest = len(answers[0].seq)\n",
    "for index in answers:\n",
    "    if len(index.seq) < lengthshortest:\n",
    "        lengthshortest = len(index.seq)\n",
    "        shortest = index\n",
    "print shortest.description\n",
    "print shortest.seq\n",
    " \n"
   ]
  },
  {
   "cell_type": "code",
   "execution_count": null,
   "metadata": {},
   "outputs": [],
   "source": []
  }
 ],
 "metadata": {
  "kernelspec": {
   "display_name": "Python 2",
   "language": "python",
   "name": "python2"
  },
  "language_info": {
   "codemirror_mode": {
    "name": "ipython",
    "version": 2
   },
   "file_extension": ".py",
   "mimetype": "text/x-python",
   "name": "python",
   "nbconvert_exporter": "python",
   "pygments_lexer": "ipython2",
   "version": "2.7.15"
  }
 },
 "nbformat": 4,
 "nbformat_minor": 2
}
