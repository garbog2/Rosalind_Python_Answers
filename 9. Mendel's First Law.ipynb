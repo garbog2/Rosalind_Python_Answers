{
 "cells": [
  {
   "cell_type": "code",
   "execution_count": 35,
   "metadata": {},
   "outputs": [],
   "source": [
    "from __future__ import division\n",
    "def mendelsfirstlaw(k, m, n):\n",
    "    t = k + m + n\n",
    "    t1 = t - 1.0\n",
    "    k1 = k - 1.0\n",
    "    m1 = m - 1.0\n",
    "    n1 = n - 1.0\n",
    "    a = (k/t * k1/t1) * 1.0\n",
    "    b = (k/t * m/t1) * 1.0\n",
    "    c = (k/t * n/t1) * 1.0\n",
    "    d = (m/t * k/t1) * 1.0\n",
    "    e = (m/t * m1/t1) * 0.75\n",
    "    f = (m/t * n/t1) * 0.5\n",
    "    g = (n/t * k/t1) * 1.0\n",
    "    h = (n/t * m/t1) * 0.5\n",
    "    probability = a + b + c + d + e + f + g + h\n",
    "    print probability\n",
    "    \n",
    "    "
   ]
  },
  {
   "cell_type": "code",
   "execution_count": 36,
   "metadata": {},
   "outputs": [
    {
     "name": "stdout",
     "output_type": "stream",
     "text": [
      "0.783333333333\n"
     ]
    }
   ],
   "source": [
    "mendelsfirstlaw(2, 2, 2)"
   ]
  },
  {
   "cell_type": "code",
   "execution_count": 41,
   "metadata": {},
   "outputs": [
    {
     "name": "stdout",
     "output_type": "stream",
     "text": [
      "0.752861952862\n"
     ]
    }
   ],
   "source": [
    "mendelsfirstlaw(17,21,17)"
   ]
  },
  {
   "cell_type": "code",
   "execution_count": null,
   "metadata": {},
   "outputs": [],
   "source": []
  },
  {
   "cell_type": "code",
   "execution_count": null,
   "metadata": {},
   "outputs": [],
   "source": []
  },
  {
   "cell_type": "code",
   "execution_count": null,
   "metadata": {},
   "outputs": [],
   "source": []
  },
  {
   "cell_type": "code",
   "execution_count": null,
   "metadata": {},
   "outputs": [],
   "source": [
    "\n"
   ]
  },
  {
   "cell_type": "code",
   "execution_count": null,
   "metadata": {},
   "outputs": [],
   "source": []
  }
 ],
 "metadata": {
  "kernelspec": {
   "display_name": "Python 2",
   "language": "python",
   "name": "python2"
  },
  "language_info": {
   "codemirror_mode": {
    "name": "ipython",
    "version": 2
   },
   "file_extension": ".py",
   "mimetype": "text/x-python",
   "name": "python",
   "nbconvert_exporter": "python",
   "pygments_lexer": "ipython2",
   "version": "2.7.15"
  }
 },
 "nbformat": 4,
 "nbformat_minor": 2
}
